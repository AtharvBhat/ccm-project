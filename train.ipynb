{
 "cells": [
  {
   "cell_type": "code",
   "execution_count": 1,
   "id": "4b078eb4",
   "metadata": {},
   "outputs": [],
   "source": [
    "import torch\n",
    "from dataset import CcmDataset\n",
    "import matplotlib.pyplot as plt\n",
    "from model import Model\n",
    "from tqdm.notebook import tqdm\n",
    "from utils import train_one_epoch, validation\n",
    "torch.manual_seed(42)\n",
    "import copy"
   ]
  },
  {
   "cell_type": "code",
   "execution_count": 2,
   "id": "21e320b7",
   "metadata": {},
   "outputs": [],
   "source": [
    "#import training data\n",
    "train_data = CcmDataset(\"data/train.pkl\")\n",
    "validation_data = CcmDataset(\"data/validation.pkl\")\n",
    "\n",
    "#create torch data loaders\n",
    "train_loader = torch.utils.data.DataLoader(train_data, batch_size=8, shuffle=True)\n",
    "validation_loader = torch.utils.data.DataLoader(validation_data, batch_size=8, shuffle=False)"
   ]
  },
  {
   "cell_type": "code",
   "execution_count": 3,
   "id": "c77b3895",
   "metadata": {},
   "outputs": [],
   "source": [
    "#define model\n",
    "model = Model(num_rep=8, num_hidden=15) #8 and 15 are the same values that we used in homework. These can be changed as an ablation \n",
    "criterion = torch.nn.BCEWithLogitsLoss()\n",
    "optimizer = torch.optim.SGD(model.parameters(), lr=0.1)\n",
    "num_epochs = 10\n",
    "device = torch.device('cuda') if torch.cuda.is_available() else torch.device('cpu')\n",
    "#scheduler = torch.optim.lr_scheduler.StepLR(optimizer, 5, 0.1, verbose=True)"
   ]
  },
  {
   "cell_type": "code",
   "execution_count": 4,
   "id": "4d9cac47",
   "metadata": {},
   "outputs": [
    {
     "data": {
      "application/vnd.jupyter.widget-view+json": {
       "model_id": "ca4d65b415d6456d9ccbabb2fd86435d",
       "version_major": 2,
       "version_minor": 0
      },
      "text/plain": [
       "0it [00:00, ?it/s]"
      ]
     },
     "metadata": {},
     "output_type": "display_data"
    },
    {
     "name": "stdout",
     "output_type": "stream",
     "text": [
      " Training Loss after epoch 0 : 0.9119083024561405\n",
      " Validation Loss after epoch 0 : 0.8977941473325094\n"
     ]
    },
    {
     "data": {
      "application/vnd.jupyter.widget-view+json": {
       "model_id": "5ff1e32afb1e49c0bf41238bdcd6ec53",
       "version_major": 2,
       "version_minor": 0
      },
      "text/plain": [
       "0it [00:00, ?it/s]"
      ]
     },
     "metadata": {},
     "output_type": "display_data"
    },
    {
     "name": "stdout",
     "output_type": "stream",
     "text": [
      " Training Loss after epoch 1 : 0.8827112160623074\n",
      " Validation Loss after epoch 1 : 0.8689691887961494\n"
     ]
    },
    {
     "data": {
      "application/vnd.jupyter.widget-view+json": {
       "model_id": "78e1166267534e0aaacf9da63db86435",
       "version_major": 2,
       "version_minor": 0
      },
      "text/plain": [
       "0it [00:00, ?it/s]"
      ]
     },
     "metadata": {},
     "output_type": "display_data"
    },
    {
     "name": "stdout",
     "output_type": "stream",
     "text": [
      " Training Loss after epoch 2 : 0.8523780133575201\n",
      " Validation Loss after epoch 2 : 0.8387998077604506\n"
     ]
    },
    {
     "data": {
      "application/vnd.jupyter.widget-view+json": {
       "model_id": "0cbaedbbcaca4690aca05ca0769f7197",
       "version_major": 2,
       "version_minor": 0
      },
      "text/plain": [
       "0it [00:00, ?it/s]"
      ]
     },
     "metadata": {},
     "output_type": "display_data"
    },
    {
     "name": "stdout",
     "output_type": "stream",
     "text": [
      " Training Loss after epoch 3 : 0.8211447801440954\n",
      " Validation Loss after epoch 3 : 0.806632916132609\n"
     ]
    },
    {
     "data": {
      "application/vnd.jupyter.widget-view+json": {
       "model_id": "51ba8a334a40488286ab684e81ccebba",
       "version_major": 2,
       "version_minor": 0
      },
      "text/plain": [
       "0it [00:00, ?it/s]"
      ]
     },
     "metadata": {},
     "output_type": "display_data"
    },
    {
     "name": "stdout",
     "output_type": "stream",
     "text": [
      " Training Loss after epoch 4 : 0.7915893714874983\n",
      " Validation Loss after epoch 4 : 0.7764832774798075\n"
     ]
    },
    {
     "data": {
      "application/vnd.jupyter.widget-view+json": {
       "model_id": "26fd5de99a8c4c509cd2659950958f16",
       "version_major": 2,
       "version_minor": 0
      },
      "text/plain": [
       "0it [00:00, ?it/s]"
      ]
     },
     "metadata": {},
     "output_type": "display_data"
    },
    {
     "name": "stdout",
     "output_type": "stream",
     "text": [
      " Training Loss after epoch 5 : 0.7659612789750099\n",
      " Validation Loss after epoch 5 : 0.7546255985895792\n"
     ]
    },
    {
     "data": {
      "application/vnd.jupyter.widget-view+json": {
       "model_id": "91a493b6da224f93b33b6f9c3ef20c1c",
       "version_major": 2,
       "version_minor": 0
      },
      "text/plain": [
       "0it [00:00, ?it/s]"
      ]
     },
     "metadata": {},
     "output_type": "display_data"
    },
    {
     "name": "stdout",
     "output_type": "stream",
     "text": [
      " Training Loss after epoch 6 : 0.7465717483311891\n",
      " Validation Loss after epoch 6 : 0.7376584675576952\n"
     ]
    },
    {
     "data": {
      "application/vnd.jupyter.widget-view+json": {
       "model_id": "53d27f5539a14e45ac90edf84630a630",
       "version_major": 2,
       "version_minor": 0
      },
      "text/plain": [
       "0it [00:00, ?it/s]"
      ]
     },
     "metadata": {},
     "output_type": "display_data"
    },
    {
     "name": "stdout",
     "output_type": "stream",
     "text": [
      " Training Loss after epoch 7 : 0.7324433419853449\n",
      " Validation Loss after epoch 7 : 0.7254772981007894\n"
     ]
    },
    {
     "data": {
      "application/vnd.jupyter.widget-view+json": {
       "model_id": "c63b7331590f490a916351ab2f5a644c",
       "version_major": 2,
       "version_minor": 0
      },
      "text/plain": [
       "0it [00:00, ?it/s]"
      ]
     },
     "metadata": {},
     "output_type": "display_data"
    },
    {
     "name": "stdout",
     "output_type": "stream",
     "text": [
      " Training Loss after epoch 8 : 0.7228588499128819\n",
      " Validation Loss after epoch 8 : 0.7168623606363932\n"
     ]
    },
    {
     "data": {
      "application/vnd.jupyter.widget-view+json": {
       "model_id": "87966ebfb86449178818e52e1cdbebd7",
       "version_major": 2,
       "version_minor": 0
      },
      "text/plain": [
       "0it [00:00, ?it/s]"
      ]
     },
     "metadata": {},
     "output_type": "display_data"
    },
    {
     "name": "stdout",
     "output_type": "stream",
     "text": [
      " Training Loss after epoch 9 : 0.7159986697137356\n",
      " Validation Loss after epoch 9 : 0.7108205027050443\n"
     ]
    }
   ],
   "source": [
    "#train model\n",
    "train_loss = []\n",
    "validation_loss = []\n",
    "model_state_dicts = [] #weights for comparison\n",
    "for i in range(num_epochs):\n",
    "    loss = train_one_epoch(model, criterion, optimizer, device, train_loader)\n",
    "    train_loss.append(loss)\n",
    "    print(f\" Training Loss after epoch {i} : {loss}\")\n",
    "    loss = validation(model, criterion, device, validation_loader)\n",
    "    validation_loss.append(loss)\n",
    "    model_state_dicts.append(copy.deepcopy(model.state_dict()))\n",
    "    print(f\" Validation Loss after epoch {i} : {loss}\")\n",
    "    #scheduler.step()"
   ]
  },
  {
   "cell_type": "code",
   "execution_count": 5,
   "id": "7b5eb0f1",
   "metadata": {},
   "outputs": [
    {
     "data": {
      "image/png": "[encoded data removed]",
      "text/plain": [
       "<Figure size 1080x360 with 1 Axes>"
      ]
     },
     "metadata": {
      "needs_background": "light"
     },
     "output_type": "display_data"
    }
   ],
   "source": [
    "#plot loss curve\n",
    "plt.figure(figsize=(15,5))\n",
    "plt.plot(list(range(num_epochs)), train_loss, label = \"Training Loss\")\n",
    "plt.plot(list(range(num_epochs)), validation_loss, label = \"validation Loss\")\n",
    "plt.xlabel(\"Epochs\")\n",
    "plt.ylabel(\"Mean Squared Error\")\n",
    "plt.legend()\n",
    "plt.show()"
   ]
  },
  {
   "cell_type": "code",
   "execution_count": 7,
   "id": "73121a11",
   "metadata": {},
   "outputs": [],
   "source": [
    "#save models for testing\n",
    "torch.save(model_state_dicts[::2], \"models/model.pt\")"
   ]
  }
 ],
 "metadata": {
  "interpreter": {
   "hash": "f762e758e950d8286b27917e3ff32b7af65c5a18eb24aefa6d6e53a4c15e0b30"
  },
  "kernelspec": {
   "display_name": "Python 3.9.6 ('pytorch')",
   "language": "python",
   "name": "python3"
  },
  "language_info": {
   "codemirror_mode": {
    "name": "ipython",
    "version": 3
   },
   "file_extension": ".py",
   "mimetype": "text/x-python",
   "name": "python",
   "nbconvert_exporter": "python",
   "pygments_lexer": "ipython3",
   "version": "3.9.6"
  }
 },
 "nbformat": 4,
 "nbformat_minor": 5
}

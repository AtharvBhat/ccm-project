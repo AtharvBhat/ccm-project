{
 "cells": [
  {
   "cell_type": "code",
   "execution_count": 1,
   "id": "4b078eb4",
   "metadata": {},
   "outputs": [],
   "source": [
    "import torch\n",
    "from dataset import CcmDataset\n",
    "import matplotlib.pyplot as plt\n",
    "from model import Model\n",
    "from tqdm.notebook import tqdm\n",
    "from utils import train_one_epoch, validation\n",
    "torch.manual_seed(42)\n",
    "import copy"
   ]
  },
  {
   "cell_type": "code",
   "execution_count": 2,
   "id": "21e320b7",
   "metadata": {},
   "outputs": [],
   "source": [
    "#import training data\n",
    "train_data = CcmDataset(\"data/train.pkl\")\n",
    "validation_data = CcmDataset(\"data/validation.pkl\")\n",
    "\n",
    "#create torch data loaders\n",
    "train_loader = torch.utils.data.DataLoader(train_data, batch_size=8, shuffle=True)\n",
    "validation_loader = torch.utils.data.DataLoader(validation_data, batch_size=8, shuffle=False)"
   ]
  },
  {
   "cell_type": "code",
   "execution_count": 3,
   "id": "c77b3895",
   "metadata": {},
   "outputs": [],
   "source": [
    "#define model\n",
    "model = Model(num_rep=8, num_hidden=15) #8 and 15 are the same values that we used in homework. These can be changed as an ablation \n",
    "criterion = torch.nn.BCELoss()\n",
    "optimizer = torch.optim.SGD(model.parameters(), lr=0.1)\n",
    "num_epochs = 20\n",
    "device = torch.device('cuda') if torch.cuda.is_available() else torch.device('cpu')\n",
    "#scheduler = torch.optim.lr_scheduler.StepLR(optimizer, 5, 0.1, verbose=True)"
   ]
  },
  {
   "cell_type": "code",
   "execution_count": 4,
   "id": "4d9cac47",
   "metadata": {},
   "outputs": [
    {
     "data": {
      "application/vnd.jupyter.widget-view+json": {
       "model_id": "da8566418bbe4d3bb74f4d6c3293437e",
       "version_major": 2,
       "version_minor": 0
      },
      "text/plain": [
       "0it [00:00, ?it/s]"
      ]
     },
     "metadata": {},
     "output_type": "display_data"
    },
    {
     "name": "stdout",
     "output_type": "stream",
     "text": [
      " Training Loss after epoch 0 : 0.5903854398056865\n",
      " Validation Loss after epoch 0 : 0.48015256391631234\n"
     ]
    },
    {
     "data": {
      "application/vnd.jupyter.widget-view+json": {
       "model_id": "8528c801da2e4998bb959fc4963e6360",
       "version_major": 2,
       "version_minor": 0
      },
      "text/plain": [
       "0it [00:00, ?it/s]"
      ]
     },
     "metadata": {},
     "output_type": "display_data"
    },
    {
     "name": "stdout",
     "output_type": "stream",
     "text": [
      " Training Loss after epoch 1 : 0.4031740179285407\n",
      " Validation Loss after epoch 1 : 0.32857168051931596\n"
     ]
    },
    {
     "data": {
      "application/vnd.jupyter.widget-view+json": {
       "model_id": "3e11ea88547a4c4db8421d7e3695f2d9",
       "version_major": 2,
       "version_minor": 0
      },
      "text/plain": [
       "0it [00:00, ?it/s]"
      ]
     },
     "metadata": {},
     "output_type": "display_data"
    },
    {
     "name": "stdout",
     "output_type": "stream",
     "text": [
      " Training Loss after epoch 2 : 0.29955754037946464\n",
      " Validation Loss after epoch 2 : 0.260845176047749\n"
     ]
    },
    {
     "data": {
      "application/vnd.jupyter.widget-view+json": {
       "model_id": "86ef49e526d049ddbe5e32e599411889",
       "version_major": 2,
       "version_minor": 0
      },
      "text/plain": [
       "0it [00:00, ?it/s]"
      ]
     },
     "metadata": {},
     "output_type": "display_data"
    },
    {
     "name": "stdout",
     "output_type": "stream",
     "text": [
      " Training Loss after epoch 3 : 0.2483598068356514\n",
      " Validation Loss after epoch 3 : 0.22350009944703844\n"
     ]
    },
    {
     "data": {
      "application/vnd.jupyter.widget-view+json": {
       "model_id": "ca246fb3e22a407c8baaaa0af3401f95",
       "version_major": 2,
       "version_minor": 0
      },
      "text/plain": [
       "0it [00:00, ?it/s]"
      ]
     },
     "metadata": {},
     "output_type": "display_data"
    },
    {
     "name": "stdout",
     "output_type": "stream",
     "text": [
      " Training Loss after epoch 4 : 0.2178248915821314\n",
      " Validation Loss after epoch 4 : 0.19146091077062818\n"
     ]
    },
    {
     "data": {
      "application/vnd.jupyter.widget-view+json": {
       "model_id": "a23f31c61222425682ad125959d12f26",
       "version_major": 2,
       "version_minor": 0
      },
      "text/plain": [
       "0it [00:00, ?it/s]"
      ]
     },
     "metadata": {},
     "output_type": "display_data"
    },
    {
     "name": "stdout",
     "output_type": "stream",
     "text": [
      " Training Loss after epoch 5 : 0.194136362336576\n",
      " Validation Loss after epoch 5 : 0.17231739395194584\n"
     ]
    },
    {
     "data": {
      "application/vnd.jupyter.widget-view+json": {
       "model_id": "1923a282400d40bd95bb2a225a6a4f39",
       "version_major": 2,
       "version_minor": 0
      },
      "text/plain": [
       "0it [00:00, ?it/s]"
      ]
     },
     "metadata": {},
     "output_type": "display_data"
    },
    {
     "name": "stdout",
     "output_type": "stream",
     "text": [
      " Training Loss after epoch 6 : 0.17756032841280103\n",
      " Validation Loss after epoch 6 : 0.15640954921642938\n"
     ]
    },
    {
     "data": {
      "application/vnd.jupyter.widget-view+json": {
       "model_id": "c47d12f4ca3e4fb59974f63b8d3ad3e4",
       "version_major": 2,
       "version_minor": 0
      },
      "text/plain": [
       "0it [00:00, ?it/s]"
      ]
     },
     "metadata": {},
     "output_type": "display_data"
    },
    {
     "name": "stdout",
     "output_type": "stream",
     "text": [
      " Training Loss after epoch 7 : 0.16285241139121354\n",
      " Validation Loss after epoch 7 : 0.14058894912401834\n"
     ]
    },
    {
     "data": {
      "application/vnd.jupyter.widget-view+json": {
       "model_id": "0443f2fb0cd14606a53db9c4d77337eb",
       "version_major": 2,
       "version_minor": 0
      },
      "text/plain": [
       "0it [00:00, ?it/s]"
      ]
     },
     "metadata": {},
     "output_type": "display_data"
    },
    {
     "name": "stdout",
     "output_type": "stream",
     "text": [
      " Training Loss after epoch 8 : 0.1521918598562479\n",
      " Validation Loss after epoch 8 : 0.12998102025853264\n"
     ]
    },
    {
     "data": {
      "application/vnd.jupyter.widget-view+json": {
       "model_id": "0dfd561ae1a646cd97fc9f7880f13ae5",
       "version_major": 2,
       "version_minor": 0
      },
      "text/plain": [
       "0it [00:00, ?it/s]"
      ]
     },
     "metadata": {},
     "output_type": "display_data"
    },
    {
     "name": "stdout",
     "output_type": "stream",
     "text": [
      " Training Loss after epoch 9 : 0.1416318655014038\n",
      " Validation Loss after epoch 9 : 0.11963829398155212\n"
     ]
    },
    {
     "data": {
      "application/vnd.jupyter.widget-view+json": {
       "model_id": "de2cb876d698414e854ff11a1935dfc4",
       "version_major": 2,
       "version_minor": 0
      },
      "text/plain": [
       "0it [00:00, ?it/s]"
      ]
     },
     "metadata": {},
     "output_type": "display_data"
    },
    {
     "name": "stdout",
     "output_type": "stream",
     "text": [
      " Training Loss after epoch 10 : 0.13272505011409522\n",
      " Validation Loss after epoch 10 : 0.11130880895588133\n"
     ]
    },
    {
     "data": {
      "application/vnd.jupyter.widget-view+json": {
       "model_id": "17d54b31f17b4d51a3e449cbc17a9a4c",
       "version_major": 2,
       "version_minor": 0
      },
      "text/plain": [
       "0it [00:00, ?it/s]"
      ]
     },
     "metadata": {},
     "output_type": "display_data"
    },
    {
     "name": "stdout",
     "output_type": "stream",
     "text": [
      " Training Loss after epoch 11 : 0.1259075267240405\n",
      " Validation Loss after epoch 11 : 0.10199664615922505\n"
     ]
    },
    {
     "data": {
      "application/vnd.jupyter.widget-view+json": {
       "model_id": "c35faec064814005b03d0c5b5484c2e0",
       "version_major": 2,
       "version_minor": 0
      },
      "text/plain": [
       "0it [00:00, ?it/s]"
      ]
     },
     "metadata": {},
     "output_type": "display_data"
    },
    {
     "name": "stdout",
     "output_type": "stream",
     "text": [
      " Training Loss after epoch 12 : 0.1180375802796334\n",
      " Validation Loss after epoch 12 : 0.09501677047875193\n"
     ]
    },
    {
     "data": {
      "application/vnd.jupyter.widget-view+json": {
       "model_id": "b24ee02163c149129a25e3c0021cc2e0",
       "version_major": 2,
       "version_minor": 0
      },
      "text/plain": [
       "0it [00:00, ?it/s]"
      ]
     },
     "metadata": {},
     "output_type": "display_data"
    },
    {
     "name": "stdout",
     "output_type": "stream",
     "text": [
      " Training Loss after epoch 13 : 0.11087830374017357\n",
      " Validation Loss after epoch 13 : 0.09298389653364818\n"
     ]
    },
    {
     "data": {
      "application/vnd.jupyter.widget-view+json": {
       "model_id": "c915839d39f64767983936570c447f04",
       "version_major": 2,
       "version_minor": 0
      },
      "text/plain": [
       "0it [00:00, ?it/s]"
      ]
     },
     "metadata": {},
     "output_type": "display_data"
    },
    {
     "name": "stdout",
     "output_type": "stream",
     "text": [
      " Training Loss after epoch 14 : 0.10662955483421684\n",
      " Validation Loss after epoch 14 : 0.08656914366616143\n"
     ]
    }
   ],
   "source": [
    "#train model\n",
    "train_loss = []\n",
    "validation_loss = []\n",
    "model_state_dicts = [] #weights for comparison\n",
    "for i in range(num_epochs):\n",
    "    loss = train_one_epoch(model, criterion, optimizer, device, train_loader)\n",
    "    train_loss.append(loss)\n",
    "    print(f\" Training Loss after epoch {i} : {loss}\")\n",
    "    loss = validation(model, criterion, device, validation_loader)\n",
    "    validation_loss.append(loss)\n",
    "    model_state_dicts.append(copy.deepcopy(model.state_dict()))\n",
    "    print(f\" Validation Loss after epoch {i} : {loss}\")\n",
    "    #scheduler.step()"
   ]
  },
  {
   "cell_type": "code",
   "execution_count": 5,
   "id": "7b5eb0f1",
   "metadata": {},
   "outputs": [
    {
     "data": {
      "image/png": "[encoded data removed]",
      "text/plain": [
       "<Figure size 1080x360 with 1 Axes>"
      ]
     },
     "metadata": {
      "needs_background": "light"
     },
     "output_type": "display_data"
    }
   ],
   "source": [
    "#plot loss curve\n",
    "plt.figure(figsize=(15,5))\n",
    "plt.plot(list(range(num_epochs)), train_loss, label = \"Training Loss\")\n",
    "plt.plot(list(range(num_epochs)), validation_loss, label = \"validation Loss\")\n",
    "plt.xlabel(\"Epochs\")\n",
    "plt.ylabel(\"Mean Squared Error\")\n",
    "plt.legend()\n",
    "plt.show()"
   ]
  },
  {
   "cell_type": "code",
   "execution_count": 9,
   "id": "73121a11",
   "metadata": {},
   "outputs": [],
   "source": [
    "#save models for testing\n",
    "torch.save(model_state_dicts[::3], \"models/model.pt\")"
   ]
  }
 ],
 "metadata": {
  "interpreter": {
   "hash": "f762e758e950d8286b27917e3ff32b7af65c5a18eb24aefa6d6e53a4c15e0b30"
  },
  "kernelspec": {
   "display_name": "Python 3.9.6 ('pytorch')",
   "language": "python",
   "name": "python3"
  },
  "language_info": {
   "codemirror_mode": {
    "name": "ipython",
    "version": 3
   },
   "file_extension": ".py",
   "mimetype": "text/x-python",
   "name": "python",
   "nbconvert_exporter": "python",
   "pygments_lexer": "ipython3",
   "version": "3.9.6"
  }
 },
 "nbformat": 4,
 "nbformat_minor": 5
}

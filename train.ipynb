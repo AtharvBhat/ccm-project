{
 "cells": [
  {
   "cell_type": "code",
   "execution_count": null,
   "id": "4b078eb4",
   "metadata": {},
   "outputs": [],
   "source": [
    "import torch\n",
    "from dataset import CcmDataset\n",
    "import matplotlib.pyplot as plt\n",
    "from model import Model\n",
    "from tqdm.notebook import tqdm\n",
    "from utils import train_one_epoch"
   ]
  },
  {
   "cell_type": "code",
   "execution_count": null,
   "id": "21e320b7",
   "metadata": {},
   "outputs": [],
   "source": [
    "#import training data\n",
    "train_data = CcmDataset(\"data/train.pkl\")\n",
    "validation_data = CcmDataset(\"data/validation.pkl\")\n",
    "\n",
    "#create torch data loaders\n",
    "train_loader = torch.utils.data.DataLoader(train_data, batch_size=8, shuffle=True)\n",
    "validation_loader = torch.utils.data.DataLoader(validation_data, batch_size=8, shuffle=False)"
   ]
  },
  {
   "cell_type": "code",
   "execution_count": null,
   "id": "c77b3895",
   "metadata": {},
   "outputs": [],
   "source": [
    "#define model\n",
    "model = Model(num_rep=8, num_hidden=15) #8 and 15 are the same values that we used in homework. These can be changed as an ablation \n",
    "criterion = torch.nn.MSELoss()\n",
    "optimizer = torch.optim.SGD(model.parameters(), lr=0.1)\n",
    "num_epochs = 10\n",
    "\n",
    "device = torch.device('cuda') if torch.cuda.is_available() else torch.device('cpu')"
   ]
  },
  {
   "cell_type": "code",
   "execution_count": null,
   "id": "4d9cac47",
   "metadata": {},
   "outputs": [],
   "source": [
    "#train model\n",
    "for i in range(num_epochs):\n",
    "    loss = train_one_epoch(model, criterion, optimizer, device, train_loader)\n",
    "    print(f\" Training Loss after epoch {i} : {loss}\")"
   ]
  }
 ],
 "metadata": {
  "kernelspec": {
   "display_name": "Python 3 (ipykernel)",
   "language": "python",
   "name": "python3"
  },
  "language_info": {
   "codemirror_mode": {
    "name": "ipython",
    "version": 3
   },
   "file_extension": ".py",
   "mimetype": "text/x-python",
   "name": "python",
   "nbconvert_exporter": "python",
   "pygments_lexer": "ipython3",
   "version": "3.9.6"
  }
 },
 "nbformat": 4,
 "nbformat_minor": 5
}

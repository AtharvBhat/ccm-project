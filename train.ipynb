{
 "cells": [
  {
   "cell_type": "code",
   "execution_count": 1,
   "id": "4b078eb4",
   "metadata": {},
   "outputs": [],
   "source": [
    "import torch\n",
    "from dataset import CcmDataset\n",
    "import matplotlib.pyplot as plt\n",
    "from model import Model\n",
    "from tqdm.notebook import tqdm\n",
    "from utils import train_one_epoch, validation"
   ]
  },
  {
   "cell_type": "code",
   "execution_count": 2,
   "id": "21e320b7",
   "metadata": {},
   "outputs": [],
   "source": [
    "#import training data\n",
    "train_data = CcmDataset(\"data/train.pkl\")\n",
    "validation_data = CcmDataset(\"data/validation.pkl\")\n",
    "\n",
    "#create torch data loaders\n",
    "train_loader = torch.utils.data.DataLoader(train_data, batch_size=8, shuffle=True)\n",
    "validation_loader = torch.utils.data.DataLoader(validation_data, batch_size=8, shuffle=False)"
   ]
  },
  {
   "cell_type": "code",
   "execution_count": 3,
   "id": "c77b3895",
   "metadata": {},
   "outputs": [],
   "source": [
    "#define model\n",
    "model = Model(num_rep=8, num_hidden=15) #8 and 15 are the same values that we used in homework. These can be changed as an ablation \n",
    "criterion = torch.nn.MSELoss()\n",
    "optimizer = torch.optim.SGD(model.parameters(), lr=0.1)\n",
    "num_epochs = 10\n",
    "\n",
    "device = torch.device('cuda') if torch.cuda.is_available() else torch.device('cpu')"
   ]
  },
  {
   "cell_type": "code",
   "execution_count": 4,
   "id": "4d9cac47",
   "metadata": {},
   "outputs": [
    {
     "name": "stdout",
     "output_type": "stream",
     "text": [
      "loss : 0.25784724950790405\n",
      "loss : 0.22694343328475952\n",
      "loss : 0.1233154833316803\n",
      "loss : 0.10002449154853821\n",
      " Training Loss after epoch 0 : 0.16605939446017146\n"
     ]
    },
    {
     "ename": "TypeError",
     "evalue": "validation() missing 2 required positional arguments: 'device' and 'dataloader'",
     "output_type": "error",
     "traceback": [
      "\u001b[1;31m---------------------------------------------------------------------------\u001b[0m",
      "\u001b[1;31mTypeError\u001b[0m                                 Traceback (most recent call last)",
      "\u001b[1;32m~\\AppData\\Local\\Temp/ipykernel_16280/4032752080.py\u001b[0m in \u001b[0;36m<module>\u001b[1;34m\u001b[0m\n\u001b[0;32m      3\u001b[0m     \u001b[0mloss\u001b[0m \u001b[1;33m=\u001b[0m \u001b[0mtrain_one_epoch\u001b[0m\u001b[1;33m(\u001b[0m\u001b[0mmodel\u001b[0m\u001b[1;33m,\u001b[0m \u001b[0mcriterion\u001b[0m\u001b[1;33m,\u001b[0m \u001b[0moptimizer\u001b[0m\u001b[1;33m,\u001b[0m \u001b[0mdevice\u001b[0m\u001b[1;33m,\u001b[0m \u001b[0mtrain_loader\u001b[0m\u001b[1;33m)\u001b[0m\u001b[1;33m\u001b[0m\u001b[1;33m\u001b[0m\u001b[0m\n\u001b[0;32m      4\u001b[0m     \u001b[0mprint\u001b[0m\u001b[1;33m(\u001b[0m\u001b[1;34mf\" Training Loss after epoch {i} : {loss}\"\u001b[0m\u001b[1;33m)\u001b[0m\u001b[1;33m\u001b[0m\u001b[1;33m\u001b[0m\u001b[0m\n\u001b[1;32m----> 5\u001b[1;33m     \u001b[0mloss\u001b[0m \u001b[1;33m=\u001b[0m \u001b[0mvalidation\u001b[0m\u001b[1;33m(\u001b[0m\u001b[0mmodel\u001b[0m\u001b[1;33m,\u001b[0m \u001b[0mcriterion\u001b[0m\u001b[1;33m,\u001b[0m \u001b[0mdevice\u001b[0m\u001b[1;33m)\u001b[0m\u001b[1;33m\u001b[0m\u001b[1;33m\u001b[0m\u001b[0m\n\u001b[0m\u001b[0;32m      6\u001b[0m     \u001b[0mprint\u001b[0m\u001b[1;33m(\u001b[0m\u001b[1;34mf\" Validation Loss after epoch {i} : {loss}\"\u001b[0m\u001b[1;33m)\u001b[0m\u001b[1;33m\u001b[0m\u001b[1;33m\u001b[0m\u001b[0m\n",
      "\u001b[1;31mTypeError\u001b[0m: validation() missing 2 required positional arguments: 'device' and 'dataloader'"
     ]
    }
   ],
   "source": [
    "#train model\n",
    "for i in range(num_epochs):\n",
    "    loss = train_one_epoch(model, criterion, optimizer, device, train_loader)\n",
    "    print(f\" Training Loss after epoch {i} : {loss}\")\n",
    "    loss = validation(model, criterion, device, validation_loader)\n",
    "    print(f\" Validation Loss after epoch {i} : {loss}\")"
   ]
  },
  {
   "cell_type": "code",
   "execution_count": null,
   "id": "7b5eb0f1",
   "metadata": {},
   "outputs": [],
   "source": []
  }
 ],
 "metadata": {
  "kernelspec": {
   "display_name": "Python 3 (ipykernel)",
   "language": "python",
   "name": "python3"
  },
  "language_info": {
   "codemirror_mode": {
    "name": "ipython",
    "version": 3
   },
   "file_extension": ".py",
   "mimetype": "text/x-python",
   "name": "python",
   "nbconvert_exporter": "python",
   "pygments_lexer": "ipython3",
   "version": "3.9.6"
  }
 },
 "nbformat": 4,
 "nbformat_minor": 5
}

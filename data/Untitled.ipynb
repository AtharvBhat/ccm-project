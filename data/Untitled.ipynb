{
 "cells": [
  {
   "cell_type": "code",
   "execution_count": 8,
   "id": "ff5fb8a3",
   "metadata": {},
   "outputs": [],
   "source": [
    "#imports\n",
    "import PIL\n",
    "from PIL import Image\n",
    "import os\n",
    "\n",
    "#change dir to this dir\n",
    "os.chdir(os.getcwd())"
   ]
  },
  {
   "cell_type": "code",
   "execution_count": 2,
   "id": "b0ceb5d0",
   "metadata": {},
   "outputs": [],
   "source": [
    "#This is stupid. but its easy and it works.\n",
    "paths = [\"canary/red\",\n",
    "        \"canary/yellow\",\n",
    "        \"daisy/red\",\n",
    "        \"daisy/yellow\",\n",
    "        \"oak/red\",\n",
    "        \"oak/green\",\n",
    "        \"pine/green\",\n",
    "        \"robin/yellow\",\n",
    "        \"robin/red\",\n",
    "        \"rose/red\",\n",
    "        \"rose/yellow\",\n",
    "        \"salmon/gray\",\n",
    "        \"salmon/red\",\n",
    "        \"sunfish/\"]"
   ]
  },
  {
   "cell_type": "code",
   "execution_count": 10,
   "id": "8eae7203",
   "metadata": {},
   "outputs": [
    {
     "name": "stdout",
     "output_type": "stream",
     "text": [
      "['Canary Tales_ Near Perfect Red Factor....jpg', 'Do Red Canaries Need Special Food_ Why....png', 'Fly Babies Aviary.jpg', 'Pin on Birds.jpg', 'Preorder a Single Red Factor Canary....jpg', 'Preorder Two – Red Factor – Canary Male....png', 'Red Agate Canary – AZ Birds.jpg', 'Red canary bird Images_ Stock Photos....jpg', 'Red Canary Images – Browse 20_179 Stock....jpg', 'Red Canary _ Red Factor Canary For Sale.jpg', 'Red Canary_ Images – Browse 58 Stock....jpg', 'Red Canary_ Serinus Canaria_ Against....jpg', 'Red Factor Canaries....jpg', 'Red factor canary - Wikipedia.jpg', 'Red Factor Canary Facts_ Care as Pets... (1).jpg', 'Red Factor Canary Facts_ Care as Pets....jpg', 'Red Factor Canary or Red Canary....jpg', 'Red Factor Canary Singing _ Canary....jpg', 'Red Factor Canary _ World News and Events.jpeg', 'Red Ivory Lipochrome.jpg', 'Red-Factor Canary Personality_ Food... (1).jpg', 'Red-Factor Canary Personality_ Food....jpg', 'Red-Factor Canary Personality_ Food....png', 'The Start of the Red Canary.jpg', 'The Start of the Red Canary.png']\n"
     ]
    }
   ],
   "source": [
    "#get each image, convert it to a numpy array and store it in a dictionary\n",
    "for path in paths:\n",
    "    item, color = path.split('/')\n",
    "    files = os.listdir(path + \"/\")\n",
    "    print(files)\n",
    "    break"
   ]
  },
  {
   "cell_type": "code",
   "execution_count": null,
   "id": "4517bbdd",
   "metadata": {},
   "outputs": [],
   "source": []
  }
 ],
 "metadata": {
  "kernelspec": {
   "display_name": "Python 3 (ipykernel)",
   "language": "python",
   "name": "python3"
  },
  "language_info": {
   "codemirror_mode": {
    "name": "ipython",
    "version": 3
   },
   "file_extension": ".py",
   "mimetype": "text/x-python",
   "name": "python",
   "nbconvert_exporter": "python",
   "pygments_lexer": "ipython3",
   "version": "3.9.6"
  }
 },
 "nbformat": 4,
 "nbformat_minor": 5
}
